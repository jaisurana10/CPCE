{
  "nbformat": 4,
  "nbformat_minor": 0,
  "metadata": {
    "colab": {
      "provenance": []
    },
    "kernelspec": {
      "name": "python3",
      "display_name": "Python 3"
    },
    "language_info": {
      "name": "python"
    }
  },
  "cells": [
    {
      "cell_type": "code",
      "execution_count": 5,
      "metadata": {
        "colab": {
          "base_uri": "https://localhost:8080/"
        },
        "id": "KywA1JD-TPgC",
        "outputId": "81a46a62-6972-41a8-c602-2e3d53810344"
      },
      "outputs": [
        {
          "output_type": "stream",
          "name": "stdout",
          "text": [
            "Constant R:48\n",
            "Constant C:16\n",
            "Total Data Values for EWL Constant:4\n",
            "Total Data Values for AADT: 4\n",
            "Enter EWL Constant:\n",
            "330\n",
            "Enter EWL Constant:\n",
            "1070\n",
            "Enter EWL Constant:\n",
            "2460\n",
            "Enter EWL Constant:\n",
            "4620\n",
            "Enter AADT:\n",
            "3750\n",
            "Enter AADT:\n",
            "472\n",
            "Enter AADT:\n",
            "320\n",
            "Enter AADT:\n",
            "120\n",
            "Dot Product:\n",
            " 3084140.0\n",
            "Total EWL: 3084140.0\n",
            "EWL after 60 years: 4934624.0\n",
            "Traffic Index :  7.578489271775089\n",
            "Pavement Thickness: 36.84995041064812 cm\n"
          ]
        }
      ],
      "source": [
        "R = int(input(\"Constant R:\"))\n",
        "C = int(input(\"Constant C:\"))\n",
        "import numpy as geek\n",
        "A = int(input(\"Total Data Values for EWL Constant:\"))\n",
        "B = int(input(\"Total Data Values for AADT: \"))\n",
        "EWL_Constant =[]\n",
        "AADT =[]\n",
        "for i in range(1,A+1):\n",
        " print(\"Enter EWL Constant:\")\n",
        " A = float(input())\n",
        " EWL_Constant.append(A)\n",
        "for j in range(1,B+1):\n",
        " print(\"Enter AADT:\")\n",
        " B = float(input())\n",
        " AADT. append (B)\n",
        "product=geek.dot(EWL_Constant,AADT)\n",
        "print(\"Dot Product:\\n\", product)\n",
        "Total_EWL = product\n",
        "print(\"Total EWL:\", Total_EWL)\n",
        "print(\"EWL after 60 years:\",Total_EWL*1.6)\n",
        "TI = 1.35*(((1.6*Total_EWL)+((product)/2))**0.11)\n",
        "print(\"Traffic Index : \", TI)\n",
        "Thickness = 0.166*TI*(99-R)/(C**0.2)\n",
        "print (\"Pavement Thickness:\", Thickness, \"cm\")"
      ]
    }
  ]
}