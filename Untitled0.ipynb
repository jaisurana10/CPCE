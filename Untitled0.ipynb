{
  "nbformat": 4,
  "nbformat_minor": 0,
  "metadata": {
    "colab": {
      "provenance": []
    },
    "kernelspec": {
      "name": "python3",
      "display_name": "Python 3"
    },
    "language_info": {
      "name": "python"
    }
  },
  "cells": [
    {
      "cell_type": "code",
      "execution_count": 1,
      "metadata": {
        "colab": {
          "base_uri": "https://localhost:8080/"
        },
        "id": "3bcg9NCXP0vR",
        "outputId": "110ad55e-32fc-4f18-ed61-bbc3a435224c"
      },
      "outputs": [
        {
          "output_type": "stream",
          "name": "stdout",
          "text": [
            "Enter the discharge rate (m^3/s): 100\n",
            "Enter the hydraulic conductivity (m/s): 1\n",
            "Enter the hydraulic head at point 1 (m): 10\n",
            "Enter the hydraulic head at point 2 (m): 5\n",
            "Enter the distance between points 1 and 2 (m): 100\n",
            "The discharge rate is: 5.0 m^3/s\n"
          ]
        }
      ],
      "source": [
        "import math\n",
        "\n",
        "def dupuit_equation(q, k, h1, h2, l):\n",
        "  \"\"\"Calculates the discharge of a steady flow in a confined aquifer using Dupuit's equation.\n",
        "\n",
        "  Args:\n",
        "    q: The discharge rate (m^3/s)\n",
        "    k: The hydraulic conductivity (m/s)\n",
        "    h1: The hydraulic head at point 1 (m)\n",
        "    h2: The hydraulic head at point 2 (m)\n",
        "    l: The distance between points 1 and 2 (m)\n",
        "\n",
        "  Returns:\n",
        "    The discharge rate (m^3/s)\n",
        "  \"\"\"\n",
        "\n",
        "  return q * (h1 - h2) / l\n",
        "\n",
        "def main():\n",
        "  \"\"\"Calculates the discharge of a steady flow in a confined aquifer using Dupuit's equation.\"\"\"\n",
        "\n",
        "  # Get the input parameters\n",
        "  q = float(input('Enter the discharge rate (m^3/s): '))\n",
        "  k = float(input('Enter the hydraulic conductivity (m/s): '))\n",
        "  h1 = float(input('Enter the hydraulic head at point 1 (m): '))\n",
        "  h2 = float(input('Enter the hydraulic head at point 2 (m): '))\n",
        "  l = float(input('Enter the distance between points 1 and 2 (m): '))\n",
        "\n",
        "  # Calculate the discharge rate using Dupuit's equation\n",
        "  q = dupuit_equation(q, k, h1, h2, l)\n",
        "\n",
        "  # Print the results\n",
        "  print('The discharge rate is:', q, 'm^3/s')\n",
        "\n",
        "if __name__ == '__main__':\n",
        "  main()"
      ]
    }
  ]
}