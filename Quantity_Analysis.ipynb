{
  "nbformat": 4,
  "nbformat_minor": 0,
  "metadata": {
    "colab": {
      "provenance": [],
      "authorship_tag": "ABX9TyNNXNWFqlmxCjaR3977q5C0",
      "include_colab_link": true
    },
    "kernelspec": {
      "name": "python3",
      "display_name": "Python 3"
    },
    "language_info": {
      "name": "python"
    }
  },
  "cells": [
    {
      "cell_type": "markdown",
      "metadata": {
        "id": "view-in-github",
        "colab_type": "text"
      },
      "source": [
        "<a href=\"https://colab.research.google.com/github/jaisurana10/CPCE/blob/main/Quantity_Analysis.ipynb\" target=\"_parent\"><img src=\"https://colab.research.google.com/assets/colab-badge.svg\" alt=\"Open In Colab\"/></a>"
      ]
    },
    {
      "cell_type": "code",
      "execution_count": 1,
      "metadata": {
        "colab": {
          "base_uri": "https://localhost:8080/"
        },
        "id": "8l3GcQIXxWUh",
        "outputId": "28468da2-639f-4af9-8bde-95c6744ee185"
      },
      "outputs": [
        {
          "output_type": "stream",
          "name": "stdout",
          "text": [
            "1.62\n"
          ]
        }
      ],
      "source": [
        "def trapezoidal_footing_volume(length, width_top, width_bottom, height):\n",
        "  \"\"\"Calculates the total volume of concrete in a trapezoidal footing.\n",
        "\n",
        "  Args:\n",
        "    length: The length of the footing in meters.\n",
        "    width_top: The width of the footing at the top in meters.\n",
        "    width_bottom: The width of the footing at the bottom in meters.\n",
        "    height: The height of the footing in meters.\n",
        "\n",
        "  Returns:\n",
        "    The total volume of concrete in the footing in cubic meters.\n",
        "  \"\"\"\n",
        "\n",
        "  # Calculate the area of the trapezoidal footing.\n",
        "  area = (width_top + width_bottom) * height / 2\n",
        "\n",
        "  # Calculate the volume of concrete in the footing.\n",
        "  volume = area * length\n",
        "\n",
        "  return volume\n",
        "\n",
        "# Example usage:\n",
        "\n",
        "footing_length = 3\n",
        "footing_width_top = 2.5\n",
        "footing_width_bottom = 0.2\n",
        "footing_height = 0.4\n",
        "\n",
        "# Calculate the total volume of concrete in the footing.\n",
        "footing_volume = trapezoidal_footing_volume(\n",
        "    footing_length, footing_width_top, footing_width_bottom, footing_height)\n",
        "\n",
        "# Print the total volume of concrete in the footing.\n",
        "print(footing_volume)\n",
        "\n"
      ]
    }
  ]
}