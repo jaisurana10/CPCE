{
  "nbformat": 4,
  "nbformat_minor": 0,
  "metadata": {
    "colab": {
      "provenance": [],
      "authorship_tag": "ABX9TyOWgRdiAwAUOAeUVX/gtb+y",
      "include_colab_link": true
    },
    "kernelspec": {
      "name": "python3",
      "display_name": "Python 3"
    },
    "language_info": {
      "name": "python"
    }
  },
  "cells": [
    {
      "cell_type": "markdown",
      "metadata": {
        "id": "view-in-github",
        "colab_type": "text"
      },
      "source": [
        "<a href=\"https://colab.research.google.com/github/jaisurana10/CPCE/blob/main/Concrete_Technology.ipynb\" target=\"_parent\"><img src=\"https://colab.research.google.com/assets/colab-badge.svg\" alt=\"Open In Colab\"/></a>"
      ]
    },
    {
      "cell_type": "code",
      "execution_count": 1,
      "metadata": {
        "colab": {
          "base_uri": "https://localhost:8080/"
        },
        "id": "3bcg9NCXP0vR",
        "outputId": "0ee787ec-100d-47c7-91be-1d51bc757ab6"
      },
      "outputs": [
        {
          "output_type": "stream",
          "name": "stdout",
          "text": [
            "Enter the value of Load in kN:2500\n",
            "Number of data values of radial distance:5\n",
            "Depth:6\n",
            "Enter radial distance in m\n",
            "1\n",
            "Stress: 30.962130445358056 kN/m^2\n",
            "Enter radial distance in m\n",
            "2\n",
            "Stress: 25.479163627894877 kN/m^2\n",
            "Enter radial distance in m\n",
            "3\n",
            "Stress: 18.98033449112347 kN/m^2\n",
            "Enter radial distance in m\n",
            "4\n",
            "Stress: 13.22290223969301 kN/m^2\n",
            "Enter radial distance in m\n",
            "5\n",
            "Stress: 8.871775810212231 kN/m^2\n"
          ]
        }
      ],
      "source": [
        "# Stress When depth is constant\n",
        "Q = float(input(\"Enter the value of Load in kN:\"))\n",
        "N= int(input(\"Number of data values of radial distance:\"))\n",
        "pi = 3.14159265359\n",
        "Z = float(input(\"Depth:\"))\n",
        "r = []\n",
        "for i in range (1, N+1):\n",
        "  print(\"Enter radial distance in m\".format (i))\n",
        "  Value_r = float(input())\n",
        "  r.append(Value_r)\n",
        "  Stress =((3*Q)/(2*pi*Z*Z))*(((1/(1+((Value_r/Z)**2))))**2.5)\n",
        "  print(\"Stress:\",Stress,\"kN/m^2\")"
      ]
    },
    {
      "cell_type": "code",
      "source": [],
      "metadata": {
        "id": "tO8XDCSXvSOM"
      },
      "execution_count": null,
      "outputs": []
    }
  ]
}